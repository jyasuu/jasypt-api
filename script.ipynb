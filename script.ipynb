{
 "cells": [
  {
   "cell_type": "code",
   "execution_count": 1,
   "metadata": {},
   "outputs": [
    {
     "name": "stdout",
     "output_type": "stream",
     "text": [
      "Collecting ansible\n",
      "  Using cached ansible-10.6.0-py3-none-any.whl.metadata (8.0 kB)\n",
      "Collecting ansible-core~=2.17.6 (from ansible)\n",
      "  Using cached ansible_core-2.17.6-py3-none-any.whl.metadata (6.9 kB)\n",
      "Requirement already satisfied: jinja2>=3.0.0 in /home/gitpod/.pyenv/versions/3.12.6/lib/python3.12/site-packages (from ansible-core~=2.17.6->ansible) (3.1.4)\n",
      "Requirement already satisfied: PyYAML>=5.1 in /home/gitpod/.pyenv/versions/3.12.6/lib/python3.12/site-packages (from ansible-core~=2.17.6->ansible) (6.0.2)\n",
      "Requirement already satisfied: cryptography in /home/gitpod/.pyenv/versions/3.12.6/lib/python3.12/site-packages (from ansible-core~=2.17.6->ansible) (43.0.1)\n",
      "Requirement already satisfied: packaging in /home/gitpod/.pyenv/versions/3.12.6/lib/python3.12/site-packages (from ansible-core~=2.17.6->ansible) (24.1)\n",
      "Collecting resolvelib<1.1.0,>=0.5.3 (from ansible-core~=2.17.6->ansible)\n",
      "  Using cached resolvelib-1.0.1-py2.py3-none-any.whl.metadata (4.0 kB)\n",
      "Requirement already satisfied: MarkupSafe>=2.0 in /home/gitpod/.pyenv/versions/3.12.6/lib/python3.12/site-packages (from jinja2>=3.0.0->ansible-core~=2.17.6->ansible) (2.1.5)\n",
      "Requirement already satisfied: cffi>=1.12 in /home/gitpod/.pyenv/versions/3.12.6/lib/python3.12/site-packages (from cryptography->ansible-core~=2.17.6->ansible) (1.17.1)\n",
      "Requirement already satisfied: pycparser in /home/gitpod/.pyenv/versions/3.12.6/lib/python3.12/site-packages (from cffi>=1.12->cryptography->ansible-core~=2.17.6->ansible) (2.22)\n",
      "Using cached ansible-10.6.0-py3-none-any.whl (49.4 MB)\n",
      "Using cached ansible_core-2.17.6-py3-none-any.whl (2.2 MB)\n",
      "Using cached resolvelib-1.0.1-py2.py3-none-any.whl (17 kB)\n",
      "Installing collected packages: resolvelib, ansible-core, ansible\n",
      "Successfully installed ansible-10.6.0 ansible-core-2.17.6 resolvelib-1.0.1\n",
      "\n",
      "\u001b[1m[\u001b[0m\u001b[34;49mnotice\u001b[0m\u001b[1;39;49m]\u001b[0m\u001b[39;49m A new release of pip is available: \u001b[0m\u001b[31;49m24.2\u001b[0m\u001b[39;49m -> \u001b[0m\u001b[32;49m24.3.1\u001b[0m\n",
      "\u001b[1m[\u001b[0m\u001b[34;49mnotice\u001b[0m\u001b[1;39;49m]\u001b[0m\u001b[39;49m To update, run: \u001b[0m\u001b[32;49mpip install --upgrade pip\u001b[0m\n",
      "Note: you may need to restart the kernel to use updated packages.\n"
     ]
    }
   ],
   "source": [
    "%pip install ansible"
   ]
  },
  {
   "cell_type": "code",
   "execution_count": 3,
   "metadata": {},
   "outputs": [
    {
     "name": "stdout",
     "output_type": "stream",
     "text": [
      "kvcbeUjM9Dwv1xgSBBnhTg==\n",
      "demo\n"
     ]
    }
   ],
   "source": [
    "import requests\n",
    "from ansible.errors import AnsibleFilterError\n",
    "\n",
    "# Define the base URL of your Spring Boot application\n",
    "BASE_URL = 'http://localhost:8080/api/encryption'  # Change if your server is on another host\n",
    "\n",
    "def encrypt(value, password='test-salt'):\n",
    "    \"\"\"Encrypts the input string using the Spring Boot encryption API.\"\"\"\n",
    "    try:\n",
    "        response = requests.post(\n",
    "            f\"{BASE_URL}/encrypt\",\n",
    "            params={'input': value,'password': password}\n",
    "        )\n",
    "        if response.status_code == 200:\n",
    "            return response.text  # Encrypted string returned by the API\n",
    "        else:\n",
    "            raise AnsibleFilterError(f\"Error encrypting value: {response.text}\")\n",
    "    except Exception as e:\n",
    "        raise AnsibleFilterError(f\"An error occurred while encrypting: {str(e)}\")\n",
    "\n",
    "def decrypt(value, password='test-salt'):\n",
    "    \"\"\"Decrypts the input string using the Spring Boot decryption API.\"\"\"\n",
    "    try:\n",
    "        response = requests.post(\n",
    "            f\"{BASE_URL}/decrypt\",\n",
    "            params={'input': value,'password': password}\n",
    "        )\n",
    "        if response.status_code == 200:\n",
    "            return response.text  # Decrypted string returned by the API\n",
    "        else:\n",
    "            raise AnsibleFilterError(f\"Error decrypting value: {response.text}\")\n",
    "    except Exception as e:\n",
    "        raise AnsibleFilterError(f\"An error occurred while decrypting: {str(e)}\")\n",
    "\n",
    "class FilterModule(object):\n",
    "    def filters(self):\n",
    "        return {\n",
    "            'encrypt_with_api': encrypt,\n",
    "            'decrypt_with_api': decrypt\n",
    "        }\n",
    "\n",
    "\n",
    "print(encrypt(\"demo\",\"test-salt\"))\n",
    "print(decrypt(encrypt(\"demo\",\"test-salt123\"),\"test-salt123\"))"
   ]
  }
 ],
 "metadata": {
  "kernelspec": {
   "display_name": "Python 3",
   "language": "python",
   "name": "python3"
  },
  "language_info": {
   "codemirror_mode": {
    "name": "ipython",
    "version": 3
   },
   "file_extension": ".py",
   "mimetype": "text/x-python",
   "name": "python",
   "nbconvert_exporter": "python",
   "pygments_lexer": "ipython3",
   "version": "3.12.6"
  }
 },
 "nbformat": 4,
 "nbformat_minor": 2
}
